{
 "cells": [
  {
   "cell_type": "code",
   "execution_count": 25,
   "id": "130a0772-5737-422b-8a5e-2a618d79fff3",
   "metadata": {},
   "outputs": [],
   "source": [
    "from sklearn import datasets\n",
    "from sklearn.model_selection import train_test_split\n",
    "from sklearn.preprocessing import OneHotEncoder"
   ]
  },
  {
   "cell_type": "code",
   "execution_count": 26,
   "id": "bc8b1a19-97b8-4237-9ad5-9b0273d4563c",
   "metadata": {},
   "outputs": [],
   "source": [
    "iris = datasets.load_iris()\n",
    "X, y = iris.data, iris.target"
   ]
  },
  {
   "cell_type": "code",
   "execution_count": 27,
   "id": "fe32c8b1-cc99-46b7-94a7-7c442769c7c8",
   "metadata": {},
   "outputs": [],
   "source": [
    "# One-hot encode the targets since we are dealing with a multi-class classification problem\n",
    "encoder = OneHotEncoder(sparse_output=False)\n",
    "y_encoded = encoder.fit_transform(y.reshape(-1, 1))"
   ]
  },
  {
   "cell_type": "code",
   "execution_count": 28,
   "id": "fd72b6dd-6df1-4136-bc5b-e0fb10e1f6ce",
   "metadata": {},
   "outputs": [],
   "source": [
    "# Split the dataset into training and testing sets\n",
    "X_train, X_test, y_train, y_test = train_test_split(X, y_encoded, test_size=0.2, random_state=44)"
   ]
  },
  {
   "cell_type": "code",
   "execution_count": 29,
   "id": "058957a1-47cd-4254-b96a-8441ddcbdd48",
   "metadata": {},
   "outputs": [],
   "source": [
    "from flax import linen as nn\n",
    "import jax\n",
    "import jax.numpy as jnp\n",
    "from jax import random\n",
    "import optax\n",
    "from flax.training import train_state"
   ]
  },
  {
   "cell_type": "code",
   "execution_count": 30,
   "id": "5c6b62e9-85bb-415c-9704-ac2f15801373",
   "metadata": {},
   "outputs": [],
   "source": [
    "class IrisNN(nn.Module):\n",
    "    @nn.compact\n",
    "    def __call__(self, x):\n",
    "        x = nn.Dense(64)(x)\n",
    "        x = nn.relu(x)\n",
    "        x = nn.Dense(64)(x)\n",
    "        x = nn.relu(x)\n",
    "        x = nn.Dense(3)(x)\n",
    "        return x"
   ]
  },
  {
   "cell_type": "code",
   "execution_count": 31,
   "id": "04c34a7d-4c37-4683-8507-87c73a56be5d",
   "metadata": {},
   "outputs": [],
   "source": [
    "def create_train_state(rng_key, learning_rate, input_shape):\n",
    "    model = IrisNN()\n",
    "    params = model.init(rng_key, jnp.ones(input_shape))['params']\n",
    "    tx = optax.adam(learning_rate)\n",
    "    return train_state.TrainState.create(apply_fn=model.apply, params=params, tx=tx)"
   ]
  },
  {
   "cell_type": "code",
   "execution_count": 32,
   "id": "4df20c1a-21a3-4d33-82e6-5be20e8eb20f",
   "metadata": {},
   "outputs": [],
   "source": [
    "@jax.jit\n",
    "def train_step(state, X, y):\n",
    "    def loss_fn(params):\n",
    "        logits = state.apply_fn({'params': params}, X)\n",
    "        loss = jnp.mean(optax.softmax_cross_entropy(logits=logits, labels=y))\n",
    "        return loss\n",
    "    grads = jax.grad(loss_fn)(state.params)\n",
    "    return state.apply_gradients(grads=grads)"
   ]
  },
  {
   "cell_type": "code",
   "execution_count": 33,
   "id": "e00053c4-5c52-44fe-b05f-37d07a5f6226",
   "metadata": {},
   "outputs": [],
   "source": [
    "# Training loop\n",
    "rng_key = random.PRNGKey(0)\n",
    "state = create_train_state(rng_key, 0.001, (1,4))\n",
    "for epoch in range(100):\n",
    "    state = train_step(state, jnp.array(X_train), jnp.array(y_train))"
   ]
  },
  {
   "cell_type": "code",
   "execution_count": 34,
   "id": "c8a8035a-cfcd-42b7-ba97-85391243b838",
   "metadata": {},
   "outputs": [],
   "source": [
    "import pickle\n",
    "\n",
    "with open('jax_model_iris.pkl', 'wb') as file:\n",
    "    pickle.dump(state.params, file)"
   ]
  },
  {
   "cell_type": "code",
   "execution_count": 35,
   "id": "08aef329-8acf-4c54-9f1a-3d7b9f4003ee",
   "metadata": {},
   "outputs": [],
   "source": [
    "# Load the saved JAX model parameters\n",
    "with open('jax_model_iris.pkl', 'rb') as f:\n",
    "    params = pickle.load(f)"
   ]
  },
  {
   "cell_type": "code",
   "execution_count": 36,
   "id": "f8f359e9-4614-45cd-ac89-30e984e48b0a",
   "metadata": {},
   "outputs": [],
   "source": [
    "# Initialize and predict\n",
    "model = IrisNN()\n",
    "input_data = X[:5]  # Taking first 5 samples for prediction\n",
    "predictions = model.apply({'params': params}, jnp.array(input_data))"
   ]
  },
  {
   "cell_type": "code",
   "execution_count": 37,
   "id": "f2cbabe2-5f8a-4cf5-8918-5eedc901843b",
   "metadata": {},
   "outputs": [],
   "source": [
    "# Convert logits to probabilities\n",
    "probs = jax.nn.softmax(predictions)"
   ]
  },
  {
   "cell_type": "code",
   "execution_count": 38,
   "id": "a2e477c7-e4df-4146-8e05-cc53de8b7e4d",
   "metadata": {},
   "outputs": [],
   "source": [
    "# Get top 3 predictions\n",
    "top_k_values, top_k_indices = jax.lax.top_k(probs, k=3)"
   ]
  },
  {
   "cell_type": "code",
   "execution_count": 39,
   "id": "b8ea2f0a-c497-4ab2-bb76-ec574a10895c",
   "metadata": {},
   "outputs": [
    {
     "name": "stdout",
     "output_type": "stream",
     "text": [
      "Sample 1 predictions:\n",
      "\tsetosa (96.15%)\n",
      "\tversicolor (3.76%)\n",
      "\tvirginica (0.09%)\n",
      "Sample 2 predictions:\n",
      "\tsetosa (93.78%)\n",
      "\tversicolor (6.05%)\n",
      "\tvirginica (0.17%)\n",
      "Sample 3 predictions:\n",
      "\tsetosa (94.91%)\n",
      "\tversicolor (4.93%)\n",
      "\tvirginica (0.15%)\n",
      "Sample 4 predictions:\n",
      "\tsetosa (93.14%)\n",
      "\tversicolor (6.65%)\n",
      "\tvirginica (0.22%)\n",
      "Sample 5 predictions:\n",
      "\tsetosa (96.22%)\n",
      "\tversicolor (3.69%)\n",
      "\tvirginica (0.09%)\n"
     ]
    }
   ],
   "source": [
    "for i in range(len(input_data)):\n",
    "    print(f\"Sample {i+1} predictions:\")\n",
    "    for j in range(3):\n",
    "        class_index = top_k_indices[i, j]\n",
    "        probability = top_k_values[i, j]\n",
    "        class_name = iris.target_names[class_index]\n",
    "        print(f\"\\t{class_name} ({probability*100:.2f}%)\")"
   ]
  },
  {
   "cell_type": "code",
   "execution_count": null,
   "id": "95524343-6274-48b9-a790-3ddeca6e097e",
   "metadata": {},
   "outputs": [],
   "source": []
  }
 ],
 "metadata": {
  "kernelspec": {
   "display_name": "Python 3 (ipykernel)",
   "language": "python",
   "name": "python3"
  },
  "language_info": {
   "codemirror_mode": {
    "name": "ipython",
    "version": 3
   },
   "file_extension": ".py",
   "mimetype": "text/x-python",
   "name": "python",
   "nbconvert_exporter": "python",
   "pygments_lexer": "ipython3",
   "version": "3.12.2"
  }
 },
 "nbformat": 4,
 "nbformat_minor": 5
}
